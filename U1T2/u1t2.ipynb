{
 "cells": [
  {
   "cell_type": "markdown",
   "id": "e5090ab0-6db2-47d5-a0bf-d56fa6227558",
   "metadata": {},
   "source": [
    "# Unit 01 Task 02\n",
    "> Federal University of Rio Grande do Norte  \n",
    "> Technology Center  \n",
    "> Department of Computer Engineering and Automation  \n",
    "> Course: **Algorithms and Data Structure II (DCA3702)**  \n",
    "> Author: **Augusto Matheus Pinheiro Damasceno**  \n",
    "> Contact\n",
    "> [augustodamasceno@protonmail.com](mailto:augustodamasceno@protonmail.com)\n",
    ">\n",
    "> Copyright (c) 2024, Augusto Damasceno.  \n",
    "> All rights reserved.   \n",
    "> SPDX-License-Identifier: BSD-2-Clause"
   ]
  },
  {
   "cell_type": "markdown",
   "id": "4a907e7e-19d0-491f-a59a-e3b0f389f204",
   "metadata": {},
   "source": [
    "# Libraries"
   ]
  },
  {
   "cell_type": "code",
   "execution_count": 14,
   "id": "434c8e27-4654-4b5d-906b-1230d0a3b179",
   "metadata": {},
   "outputs": [],
   "source": [
    "import random\n",
    "from enum import Enum\n",
    "from math import log2\n",
    "from collections import Counter\n",
    "\n",
    "import numpy as np\n",
    "import pandas as pd\n",
    "import plotly.graph_objects as go\n",
    "import matplotlib.pyplot as plt\n",
    "import networkx as nx\n",
    "\n",
    "# Set the default figure size for all plots\n",
    "plt.rcParams['figure.figsize'] = [30, 12]\n",
    "\n",
    "# Set Pseudo-Random Number Generation Seed for Reproducibility\n",
    "seed = 42\n",
    "np.random.seed(seed)\n",
    "random.seed(seed)"
   ]
  },
  {
   "cell_type": "markdown",
   "id": "761b94bb-3692-4d41-ad17-e5c6f86bf547",
   "metadata": {},
   "source": [
    "# Network Density"
   ]
  },
  {
   "cell_type": "code",
   "execution_count": null,
   "id": "472b3e3b-9941-494f-8c0e-c04b6c86f51f",
   "metadata": {},
   "outputs": [],
   "source": []
  },
  {
   "cell_type": "markdown",
   "id": "623365ed-e655-45f7-ba38-de97a1feee80",
   "metadata": {},
   "source": [
    "# Subgraph\n"
   ]
  },
  {
   "cell_type": "code",
   "execution_count": null,
   "id": "528ec53e-bb35-46cb-93c2-c9d4f483803b",
   "metadata": {},
   "outputs": [],
   "source": []
  },
  {
   "cell_type": "markdown",
   "id": "fdee1f30-1d63-435c-89cb-7c7f95979cda",
   "metadata": {},
   "source": []
  },
  {
   "cell_type": "markdown",
   "id": "72c08327-df1b-4c05-b466-bf551da6b2ab",
   "metadata": {},
   "source": [
    "# Degree Histogram"
   ]
  },
  {
   "cell_type": "code",
   "execution_count": null,
   "id": "5ca6758e-44df-4830-9f92-7242d6490d63",
   "metadata": {},
   "outputs": [],
   "source": []
  },
  {
   "cell_type": "code",
   "execution_count": null,
   "id": "bb52ee45-aa19-4235-921c-4f9686dd19ee",
   "metadata": {},
   "outputs": [],
   "source": []
  },
  {
   "cell_type": "code",
   "execution_count": null,
   "id": "cc2e41e0-1523-474f-b65d-c44ff372743f",
   "metadata": {},
   "outputs": [],
   "source": []
  }
 ],
 "metadata": {
  "kernelspec": {
   "display_name": "Python 3 (ipykernel)",
   "language": "python",
   "name": "python3"
  },
  "language_info": {
   "codemirror_mode": {
    "name": "ipython",
    "version": 3
   },
   "file_extension": ".py",
   "mimetype": "text/x-python",
   "name": "python",
   "nbconvert_exporter": "python",
   "pygments_lexer": "ipython3",
   "version": "3.12.6"
  }
 },
 "nbformat": 4,
 "nbformat_minor": 5
}
